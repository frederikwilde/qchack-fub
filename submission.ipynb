{
 "cells": [
  {
   "cell_type": "code",
   "execution_count": 17,
   "id": "95119ada",
   "metadata": {},
   "outputs": [],
   "source": [
    "import numpy as np\n",
    "import matplotlib.pyplot as plt\n",
    "\n",
    "from scipy.optimize import curve_fit\n",
    "from scipy.signal import find_peaks\n",
    "\n",
    "from sklearn.discriminant_analysis import LinearDiscriminantAnalysis\n",
    "from sklearn.model_selection import train_test_split\n",
    "\n",
    "import qiskit.pulse as pulse\n",
    "import qiskit.pulse.library as pulse_lib\n",
    "from qiskit.pulse.library import Waveform\n",
    "\n",
    "from qiskit.tools.monitor import job_monitor\n",
    "from qiskit.compiler import assemble\n"
   ]
  },
  {
   "cell_type": "code",
   "execution_count": 18,
   "id": "cfe7f423",
   "metadata": {},
   "outputs": [],
   "source": [
    "import warnings\n",
    "warnings.filterwarnings('ignore')\n",
    "from qiskit.tools.jupyter import *"
   ]
  },
  {
   "cell_type": "code",
   "execution_count": 19,
   "id": "bb0ff7b0",
   "metadata": {},
   "outputs": [
    {
     "data": {
      "text/plain": [
       "True"
      ]
     },
     "execution_count": 19,
     "metadata": {},
     "output_type": "execute_result"
    }
   ],
   "source": [
    "backend = armonk_backend\n",
    "backend.configuration().open_pulse"
   ]
  },
  {
   "cell_type": "code",
   "execution_count": 20,
   "id": "b3b114c7",
   "metadata": {},
   "outputs": [],
   "source": [
    "dt = backend.configuration().dt\n",
    "backend_defaults = backend.defaults()"
   ]
  },
  {
   "cell_type": "code",
   "execution_count": 21,
   "id": "78e8eaab",
   "metadata": {},
   "outputs": [
    {
     "name": "stdout",
     "output_type": "stream",
     "text": [
      "Qubit 0 has an estimated frequency of 4.971852852405576 GHz.\n"
     ]
    }
   ],
   "source": [
    "GHz = 1.0e9 # Gigahertz\n",
    "MHz = 1.0e6 # Megahertz\n",
    "us = 1.0e-6 # Microseconds\n",
    "ns = 1.0e-9 # Nanoseconds\n",
    "qubit = 0 # qubit we will analyze\n",
    "default_qubit_freq = backend_defaults.qubit_freq_est[qubit] # Default qubit frequency in Hz. \n",
    "print(f\"Qubit {qubit} has an estimated frequency of {default_qubit_freq/ GHz} GHz.\")\n",
    "# scale data (specific to each device)\n",
    "scale_factor = 1.\n",
    "# number of shots for our experiments\n",
    "NUM_SHOTS = 1024\n",
    "### Collect the necessary channels\n",
    "drive_chan = pulse.DriveChannel(qubit)\n",
    "meas_chan = pulse.MeasureChannel(qubit)\n",
    "acq_chan = pulse.AcquireChannel(qubit)"
   ]
  },
  {
   "cell_type": "code",
   "execution_count": 22,
   "id": "f6892bb7",
   "metadata": {},
   "outputs": [],
   "source": [
    "def get_closest_multiple_of_16(num):\n",
    "    \"\"\"Compute the nearest multiple of 16. Needed because pulse enabled devices require \n",
    "    durations which are multiples of 16 samples.\n",
    "    \"\"\"\n",
    "    return int(num)-(int(num)%16)\n"
   ]
  },
  {
   "cell_type": "code",
   "execution_count": 23,
   "id": "8252a692",
   "metadata": {},
   "outputs": [],
   "source": [
    "def get_job_data(job, average):\n",
    "    \"\"\"Retrieve data from a job that has already run.\n",
    "    Args:\n",
    "        job (Job): The job whose data you want.\n",
    "        average (bool): If True, gets the data assuming data is an average.\n",
    "                        If False, gets the data assuming it is for single shots.\n",
    "    Return:\n",
    "        list: List containing job result data. \n",
    "    \"\"\"\n",
    "    job_results = job.result(timeout=120) # timeout parameter set to 120 s\n",
    "    result_data = []\n",
    "    for i in range(len(job_results.results)):\n",
    "        if average: # get avg data\n",
    "            result_data.append(job_results.get_memory(i)[qubit]*scale_factor) \n",
    "        else: # get single data\n",
    "            result_data.append(job_results.get_memory(i)[:, qubit]*scale_factor)  \n",
    "    return result_data"
   ]
  },
  {
   "cell_type": "code",
   "execution_count": 24,
   "id": "b56acfd0",
   "metadata": {},
   "outputs": [],
   "source": [
    "# Drive pulse parameters (us = microseconds)\n",
    "drive_sigma_us = 0.075                     # This determines the actual width of the gaussian\n",
    "drive_samples_us = drive_sigma_us*8        # This is a truncating parameter, because gaussians don't have \n",
    "                                           # a natural finite length\n",
    "\n",
    "drive_sigma = get_closest_multiple_of_16(drive_sigma_us * us /dt)       # The width of the gaussian in units of dt\n",
    "drive_samples = get_closest_multiple_of_16(drive_samples_us * us /dt)   # The truncating parameter in units of dt"
   ]
  },
  {
   "cell_type": "code",
   "execution_count": 25,
   "id": "3378f0a8",
   "metadata": {},
   "outputs": [],
   "source": [
    "# Find out which measurement map index is needed for this qubit\n",
    "meas_map_idx = None\n",
    "for i, measure_group in enumerate(backend.configuration().meas_map):\n",
    "    if qubit in measure_group:\n",
    "        meas_map_idx = i\n",
    "        break\n",
    "assert meas_map_idx is not None, f\"Couldn't find qubit {qubit} in the meas_map!\""
   ]
  },
  {
   "cell_type": "code",
   "execution_count": 26,
   "id": "ae45faf9",
   "metadata": {},
   "outputs": [],
   "source": [
    "# Get default measurement pulse from instruction schedule map\n",
    "inst_sched_map = backend_defaults.instruction_schedule_map\n",
    "measure = inst_sched_map.get('measure', qubits=backend.configuration().meas_map[meas_map_idx])"
   ]
  },
  {
   "cell_type": "code",
   "execution_count": 27,
   "id": "d0ed6e0e",
   "metadata": {},
   "outputs": [],
   "source": [
    "lorentzian = lambda x, A, q_freq, B, C: (A / np.pi) * (B / ((x - q_freq)**2 + B**2)) + C\n",
    "rabi_fun = lambda x, A, B, drive_period, phi: (A*np.cos(2*np.pi*x/drive_period - phi) + B)\n"
   ]
  },
  {
   "cell_type": "code",
   "execution_count": 28,
   "id": "2b417473",
   "metadata": {},
   "outputs": [],
   "source": [
    "def get_schedule(_pulse, drive_channel, preprogram=None):\n",
    "    if preprogram is None:\n",
    "        preprogram = []\n",
    "        \n",
    "    schedule = pulse.Schedule(name='Drive ground state.')\n",
    "    for _pulse, channel, _ in preprogram:\n",
    "        if channel is None:\n",
    "            channel = drive_channel\n",
    "        schedule |= pulse.Play(_pulse, channel) << schedule.duration\n",
    "    schedule |= pulse.Play(_pulse, drive_channel) << schedule.duration\n",
    "    schedule |= measure << schedule.duration\n",
    "    \n",
    "    return schedule"
   ]
  },
  {
   "cell_type": "code",
   "execution_count": 29,
   "id": "d1bdc3af",
   "metadata": {},
   "outputs": [],
   "source": [
    "def find_frequency(\n",
    "    initial_guess,\n",
    "    preprogram=None,\n",
    "    width=40*MHz,\n",
    "    num_freqs=75,\n",
    "    drive_power=0.3,\n",
    "    drive_sigma=drive_sigma,\n",
    "    initial_fit_params=[7, 4.975*GHz, 1*GHz, 3*GHz],\n",
    "):\n",
    "    \n",
    "    if num_freqs > 75:\n",
    "        raise ValueError(\"You can only run 75 schedules at a time.\")\n",
    "    \n",
    "    freqs = initial_guess + np.linspace(-width/2, width/2, num_freqs)\n",
    "    \n",
    "    # print information on the sweep\n",
    "    print(f\"The frequency sweep will go from {freqs[0] / GHz} GHz to {freqs[-1]/ GHz} GHz \\\n",
    "using {len(freqs)} frequencies. The drive power is {drive_power}.\")\n",
    "    \n",
    "    # Define the drive pulse\n",
    "    drive_ground_state = pulse_lib.gaussian(\n",
    "        duration=drive_samples,\n",
    "        sigma=drive_sigma,\n",
    "        amp=drive_power,\n",
    "        name='drive_ground_state_pulse'\n",
    "    )\n",
    "    drive_channel = pulse.DriveChannel(0)\n",
    "    schedule = get_schedule(drive_ground_state, drive_channel, preprogram)\n",
    "    \n",
    "    # define frequencies for the sweep\n",
    "    schedule_freqs = [\n",
    "        {drive_channel: freq, **{channel: f for _, channel, f in preprogram if channel is not None}} \n",
    "        for freq in freqs\n",
    "    ]\n",
    "\n",
    "    # assemble the program\n",
    "    drive_ground_state_program = assemble(\n",
    "        schedule,\n",
    "        backend=backend, \n",
    "        meas_level=1,\n",
    "        meas_return='avg',\n",
    "        shots=NUM_SHOTS,\n",
    "        schedule_los=schedule_freqs,\n",
    "    )\n",
    "    drive_ground_state_job = backend.run(drive_ground_state_program)\n",
    "    print(drive_ground_state_job.job_id())\n",
    "    job_monitor(drive_ground_state_job)\n",
    "    drive_ground_state_data = get_job_data(drive_ground_state_job, average=True)\n",
    "    \n",
    "    fitparams, conv = curve_fit(lorentzian, freqs, drive_ground_state_data, initial_fit_params)\n",
    "    y_fit = lorentzian(freqs, *fitparams)\n",
    "    \n",
    "    plt.scatter(freqs/GHz, drive_ground_state_data, color='black')\n",
    "    plt.plot(freqs/GHz, y_fit, color='red')\n",
    "    plt.xlim([min(freqs/GHz), max(freqs/GHz)])\n",
    "    plt.xlabel(\"Frequency [GHz]\", fontsize=15)\n",
    "    plt.ylabel(\"Measured Signal [a.u.]\", fontsize=15)\n",
    "    plt.title(\"0->1 Frequency Sweep\", fontsize=15)\n",
    "    plt.show()\n",
    "    fitted_frequency = fitparams[1]\n",
    "    \n",
    "    return fitted_frequency"
   ]
  },
  {
   "cell_type": "code",
   "execution_count": 30,
   "id": "7e602c57",
   "metadata": {},
   "outputs": [],
   "source": [
    "def find_amplitude(freq, num_amp=50, amp_min=0., amp_max=0.75, preprogram=None, \n",
    "                   initial_fit_params=[4, -4, 0.4, 0]):\n",
    "    \n",
    "    drive_amps = np.linspace(amp_min, amp_max, num_amp)\n",
    "    \n",
    "    drive_channel = pulse.DriveChannel(0)\n",
    "    # Create schedule\n",
    "    rabi_schedules = []\n",
    "    # loop over all drive amplitudes\n",
    "    for drive_amp in drive_amps:\n",
    "        # drive pulse\n",
    "        drive_ground_state = pulse_lib.gaussian(\n",
    "            duration=drive_samples,\n",
    "            sigma=drive_sigma,\n",
    "            amp=drive_amp,\n",
    "            name='drive_ground_state_pulse'\n",
    "        )\n",
    "        schedule = get_schedule(drive_ground_state, drive_channel, preprogram)\n",
    "\n",
    "        rabi_schedules.append(schedule)\n",
    "        \n",
    "    rabi_program = assemble(\n",
    "        rabi_schedules,\n",
    "        backend=backend,\n",
    "        meas_level=1,\n",
    "        meas_return='avg',\n",
    "        shots=NUM_SHOTS,\n",
    "        schedule_los=[{drive_channel: freq}] * num_amp\n",
    "    )\n",
    "    \n",
    "    rabi_job = backend.run(rabi_program)\n",
    "    \n",
    "    print(rabi_job.job_id())\n",
    "    job_monitor(rabi_job)\n",
    "    rabi_data = get_job_data(rabi_job, average=True)\n",
    "\n",
    "    # Note: Only real part of data is plotted\n",
    "    rabi_data = np.real(np.array(rabi_data)-np.mean(rabi_data))\n",
    "    fitparams, conv = curve_fit(rabi_fun, drive_amps, rabi_data, initial_fit_params)\n",
    "    y_fit = rabi_fun(drive_amps, *fitparams)\n",
    "    \n",
    "    plt.scatter(drive_amps, rabi_data, color='black')\n",
    "    plt.plot(drive_amps, rabi_y_fit, color='red')\n",
    "\n",
    "    drive_period = fitparams[2] \n",
    "    # account for phi in computing pi amp\n",
    "    amp_01 = (drive_period/2/np.pi) *(np.pi+fitparams[3])\n",
    "\n",
    "    plt.axvline(amp_01, color='red', linestyle='--')\n",
    "    plt.axvline(amp_01+drive_period/2, color='red', linestyle='--')\n",
    "    plt.annotate(\"\", xy=(amp_01+drive_period/2, 0), xytext=(amp_01,0), arrowprops=dict(arrowstyle=\"<->\", color='red'))\n",
    "    plt.annotate(\"$\\pi$\", xy=(amp_01-0.03, 0.1), color='red')\n",
    "\n",
    "    plt.xlabel(\"Drive amp [a.u.]\", fontsize=15)\n",
    "    plt.ylabel(\"Measured signal [a.u.]\", fontsize=15)\n",
    "    plt.title('0->1 Rabi Experiment', fontsize=15)\n",
    "    plt.show()\n",
    "    \n",
    "    return amp_01"
   ]
  },
  {
   "cell_type": "code",
   "execution_count": 32,
   "id": "fe36f4f9",
   "metadata": {},
   "outputs": [
    {
     "name": "stdout",
     "output_type": "stream",
     "text": [
      "The frequency sweep will go from 4.95 GHz to 4.99 GHz using 75 frequencies. The drive power is 0.3.\n",
      "ca04f7dc-0577-4650-af18-1919af1a6e62\n",
      "Job Status: job has successfully run\n"
     ]
    },
    {
     "data": {
      "image/png": "[encoded data removed]",
      "text/plain": [
       "<Figure size 432x288 with 1 Axes>"
      ]
     },
     "metadata": {
      "needs_background": "light"
     },
     "output_type": "display_data"
    },
    {
     "name": "stdout",
     "output_type": "stream",
     "text": [
      "93f03e44-7379-4df8-8ee0-e7ceb17528c3\n",
      "Job Status: job has successfully run\n"
     ]
    },
    {
     "ename": "NameError",
     "evalue": "name 'rabi_y_fit' is not defined",
     "output_type": "error",
     "traceback": [
      "\u001b[0;31m---------------------------------------------------------------------------\u001b[0m",
      "\u001b[0;31mNameError\u001b[0m                                 Traceback (most recent call last)",
      "\u001b[0;32m<ipython-input-32-3bcf33cdca99>\u001b[0m in \u001b[0;36m<module>\u001b[0;34m\u001b[0m\n\u001b[1;32m      1\u001b[0m \u001b[0mfreq_01\u001b[0m \u001b[0;34m=\u001b[0m \u001b[0mfind_frequency\u001b[0m\u001b[0;34m(\u001b[0m\u001b[0;36m4.97\u001b[0m\u001b[0;34m*\u001b[0m\u001b[0mGHz\u001b[0m\u001b[0;34m,\u001b[0m \u001b[0mpreprogram\u001b[0m\u001b[0;34m=\u001b[0m\u001b[0;34m[\u001b[0m\u001b[0;34m]\u001b[0m\u001b[0;34m)\u001b[0m\u001b[0;34m\u001b[0m\u001b[0;34m\u001b[0m\u001b[0m\n\u001b[0;32m----> 2\u001b[0;31m \u001b[0mamp_01\u001b[0m \u001b[0;34m=\u001b[0m \u001b[0mfind_amplitude\u001b[0m\u001b[0;34m(\u001b[0m\u001b[0mfreq_01\u001b[0m\u001b[0;34m,\u001b[0m \u001b[0mpreprogram\u001b[0m\u001b[0;34m=\u001b[0m\u001b[0;34m[\u001b[0m\u001b[0;34m]\u001b[0m\u001b[0;34m)\u001b[0m\u001b[0;34m\u001b[0m\u001b[0;34m\u001b[0m\u001b[0m\n\u001b[0m",
      "\u001b[0;32m<ipython-input-30-7d2034584d9b>\u001b[0m in \u001b[0;36mfind_amplitude\u001b[0;34m(freq, num_amp, amp_min, amp_max, preprogram, initial_fit_params)\u001b[0m\n\u001b[1;32m     41\u001b[0m \u001b[0;34m\u001b[0m\u001b[0m\n\u001b[1;32m     42\u001b[0m     \u001b[0mplt\u001b[0m\u001b[0;34m.\u001b[0m\u001b[0mscatter\u001b[0m\u001b[0;34m(\u001b[0m\u001b[0mdrive_amps\u001b[0m\u001b[0;34m,\u001b[0m \u001b[0mrabi_data\u001b[0m\u001b[0;34m,\u001b[0m \u001b[0mcolor\u001b[0m\u001b[0;34m=\u001b[0m\u001b[0;34m'black'\u001b[0m\u001b[0;34m)\u001b[0m\u001b[0;34m\u001b[0m\u001b[0;34m\u001b[0m\u001b[0m\n\u001b[0;32m---> 43\u001b[0;31m     \u001b[0mplt\u001b[0m\u001b[0;34m.\u001b[0m\u001b[0mplot\u001b[0m\u001b[0;34m(\u001b[0m\u001b[0mdrive_amps\u001b[0m\u001b[0;34m,\u001b[0m \u001b[0mrabi_y_fit\u001b[0m\u001b[0;34m,\u001b[0m \u001b[0mcolor\u001b[0m\u001b[0;34m=\u001b[0m\u001b[0;34m'red'\u001b[0m\u001b[0;34m)\u001b[0m\u001b[0;34m\u001b[0m\u001b[0;34m\u001b[0m\u001b[0m\n\u001b[0m\u001b[1;32m     44\u001b[0m \u001b[0;34m\u001b[0m\u001b[0m\n\u001b[1;32m     45\u001b[0m     \u001b[0mdrive_period\u001b[0m \u001b[0;34m=\u001b[0m \u001b[0mfitparams\u001b[0m\u001b[0;34m[\u001b[0m\u001b[0;36m2\u001b[0m\u001b[0;34m]\u001b[0m\u001b[0;34m\u001b[0m\u001b[0;34m\u001b[0m\u001b[0m\n",
      "\u001b[0;31mNameError\u001b[0m: name 'rabi_y_fit' is not defined"
     ]
    },
    {
     "data": {
      "image/png": "[encoded data removed]",
      "text/plain": [
       "<Figure size 432x288 with 1 Axes>"
      ]
     },
     "metadata": {
      "needs_background": "light"
     },
     "output_type": "display_data"
    }
   ],
   "source": [
    "freq_01 = find_frequency(4.97*GHz, preprogram=[])\n",
    "amp_01 = find_amplitude(freq_01, preprogram=[])\n"
   ]
  },
  {
   "cell_type": "code",
   "execution_count": null,
   "id": "68526589",
   "metadata": {},
   "outputs": [],
   "source": [
    "pulse_01 = pulse_lib.gaussian(\n",
    "    duration=drive_samples,\n",
    "    amp=amp_01, \n",
    "    sigma=drive_sigma,\n",
    "    name='pulse_01'\n",
    ")\n",
    "preprogram_12 = [\n",
    "    (pulse_01, None, None)\n",
    "]\n",
    "freq_12 = find_frequency(4.97*GHz, preprogram=preprogram_12)\n",
    "amp_12 = find_amplitude(freq_01, preprogram=preprogram_12)"
   ]
  },
  {
   "cell_type": "code",
   "execution_count": null,
   "id": "17d836d1",
   "metadata": {},
   "outputs": [],
   "source": []
  }
 ],
 "metadata": {
  "jupytext": {
   "formats": "ipynb,py"
  },
  "kernelspec": {
   "display_name": "Python 3",
   "language": "python",
   "name": "python3"
  },
  "language_info": {
   "codemirror_mode": {
    "name": "ipython",
    "version": 3
   },
   "file_extension": ".py",
   "mimetype": "text/x-python",
   "name": "python",
   "nbconvert_exporter": "python",
   "pygments_lexer": "ipython3",
   "version": "3.8.5"
  }
 },
 "nbformat": 4,
 "nbformat_minor": 5
}
